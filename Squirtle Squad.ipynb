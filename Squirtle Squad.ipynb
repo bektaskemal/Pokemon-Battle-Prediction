{
 "cells": [
  {
   "cell_type": "code",
   "execution_count": 1,
   "metadata": {},
   "outputs": [
    {
     "data": {
      "text/html": [
       "<div>\n",
       "<style>\n",
       "    .dataframe thead tr:only-child th {\n",
       "        text-align: right;\n",
       "    }\n",
       "\n",
       "    .dataframe thead th {\n",
       "        text-align: left;\n",
       "    }\n",
       "\n",
       "    .dataframe tbody tr th {\n",
       "        vertical-align: top;\n",
       "    }\n",
       "</style>\n",
       "<table border=\"1\" class=\"dataframe\">\n",
       "  <thead>\n",
       "    <tr style=\"text-align: right;\">\n",
       "      <th></th>\n",
       "      <th>First_pokemon</th>\n",
       "      <th>Second_pokemon</th>\n",
       "      <th>Winner</th>\n",
       "    </tr>\n",
       "  </thead>\n",
       "  <tbody>\n",
       "    <tr>\n",
       "      <th>0</th>\n",
       "      <td>266</td>\n",
       "      <td>298</td>\n",
       "      <td>298</td>\n",
       "    </tr>\n",
       "    <tr>\n",
       "      <th>1</th>\n",
       "      <td>702</td>\n",
       "      <td>701</td>\n",
       "      <td>701</td>\n",
       "    </tr>\n",
       "    <tr>\n",
       "      <th>2</th>\n",
       "      <td>191</td>\n",
       "      <td>668</td>\n",
       "      <td>668</td>\n",
       "    </tr>\n",
       "    <tr>\n",
       "      <th>3</th>\n",
       "      <td>237</td>\n",
       "      <td>683</td>\n",
       "      <td>683</td>\n",
       "    </tr>\n",
       "    <tr>\n",
       "      <th>4</th>\n",
       "      <td>151</td>\n",
       "      <td>231</td>\n",
       "      <td>151</td>\n",
       "    </tr>\n",
       "  </tbody>\n",
       "</table>\n",
       "</div>"
      ],
      "text/plain": [
       "   First_pokemon  Second_pokemon  Winner\n",
       "0            266             298     298\n",
       "1            702             701     701\n",
       "2            191             668     668\n",
       "3            237             683     683\n",
       "4            151             231     151"
      ]
     },
     "execution_count": 1,
     "metadata": {},
     "output_type": "execute_result"
    }
   ],
   "source": [
    "import pandas  #importing pandas library\n",
    "#import dataset files\n",
    "combats = pandas.read_csv('C:/Users/Kemal Bektas/Desktop/phyton/input/combats.csv')  #matchups and results\n",
    "pokemon = pandas.read_csv('C:/Users/Kemal Bektas/Desktop/phyton/input/pokemon.csv')  #pokemons and their attributes\n",
    "\n",
    "combats.head(5) #checking first 10 columns of combats\n",
    "#it can be seen that combats only have pokemon numbers and winners"
   ]
  },
  {
   "cell_type": "code",
   "execution_count": 2,
   "metadata": {},
   "outputs": [
    {
     "data": {
      "text/html": [
       "<div>\n",
       "<style>\n",
       "    .dataframe thead tr:only-child th {\n",
       "        text-align: right;\n",
       "    }\n",
       "\n",
       "    .dataframe thead th {\n",
       "        text-align: left;\n",
       "    }\n",
       "\n",
       "    .dataframe tbody tr th {\n",
       "        vertical-align: top;\n",
       "    }\n",
       "</style>\n",
       "<table border=\"1\" class=\"dataframe\">\n",
       "  <thead>\n",
       "    <tr style=\"text-align: right;\">\n",
       "      <th></th>\n",
       "      <th>#</th>\n",
       "      <th>Name</th>\n",
       "      <th>Type 1</th>\n",
       "      <th>Type 2</th>\n",
       "      <th>HP</th>\n",
       "      <th>Attack</th>\n",
       "      <th>Defense</th>\n",
       "      <th>Sp. Atk</th>\n",
       "      <th>Sp. Def</th>\n",
       "      <th>Speed</th>\n",
       "      <th>Generation</th>\n",
       "      <th>Legendary</th>\n",
       "    </tr>\n",
       "  </thead>\n",
       "  <tbody>\n",
       "    <tr>\n",
       "      <th>0</th>\n",
       "      <td>1</td>\n",
       "      <td>Bulbasaur</td>\n",
       "      <td>Grass</td>\n",
       "      <td>Poison</td>\n",
       "      <td>45</td>\n",
       "      <td>49</td>\n",
       "      <td>49</td>\n",
       "      <td>65</td>\n",
       "      <td>65</td>\n",
       "      <td>45</td>\n",
       "      <td>1</td>\n",
       "      <td>False</td>\n",
       "    </tr>\n",
       "    <tr>\n",
       "      <th>1</th>\n",
       "      <td>2</td>\n",
       "      <td>Ivysaur</td>\n",
       "      <td>Grass</td>\n",
       "      <td>Poison</td>\n",
       "      <td>60</td>\n",
       "      <td>62</td>\n",
       "      <td>63</td>\n",
       "      <td>80</td>\n",
       "      <td>80</td>\n",
       "      <td>60</td>\n",
       "      <td>1</td>\n",
       "      <td>False</td>\n",
       "    </tr>\n",
       "    <tr>\n",
       "      <th>2</th>\n",
       "      <td>3</td>\n",
       "      <td>Venusaur</td>\n",
       "      <td>Grass</td>\n",
       "      <td>Poison</td>\n",
       "      <td>80</td>\n",
       "      <td>82</td>\n",
       "      <td>83</td>\n",
       "      <td>100</td>\n",
       "      <td>100</td>\n",
       "      <td>80</td>\n",
       "      <td>1</td>\n",
       "      <td>False</td>\n",
       "    </tr>\n",
       "    <tr>\n",
       "      <th>3</th>\n",
       "      <td>4</td>\n",
       "      <td>Mega Venusaur</td>\n",
       "      <td>Grass</td>\n",
       "      <td>Poison</td>\n",
       "      <td>80</td>\n",
       "      <td>100</td>\n",
       "      <td>123</td>\n",
       "      <td>122</td>\n",
       "      <td>120</td>\n",
       "      <td>80</td>\n",
       "      <td>1</td>\n",
       "      <td>False</td>\n",
       "    </tr>\n",
       "    <tr>\n",
       "      <th>4</th>\n",
       "      <td>5</td>\n",
       "      <td>Charmander</td>\n",
       "      <td>Fire</td>\n",
       "      <td>NaN</td>\n",
       "      <td>39</td>\n",
       "      <td>52</td>\n",
       "      <td>43</td>\n",
       "      <td>60</td>\n",
       "      <td>50</td>\n",
       "      <td>65</td>\n",
       "      <td>1</td>\n",
       "      <td>False</td>\n",
       "    </tr>\n",
       "  </tbody>\n",
       "</table>\n",
       "</div>"
      ],
      "text/plain": [
       "   #           Name Type 1  Type 2  HP  Attack  Defense  Sp. Atk  Sp. Def  \\\n",
       "0  1      Bulbasaur  Grass  Poison  45      49       49       65       65   \n",
       "1  2        Ivysaur  Grass  Poison  60      62       63       80       80   \n",
       "2  3       Venusaur  Grass  Poison  80      82       83      100      100   \n",
       "3  4  Mega Venusaur  Grass  Poison  80     100      123      122      120   \n",
       "4  5     Charmander   Fire     NaN  39      52       43       60       50   \n",
       "\n",
       "   Speed  Generation  Legendary  \n",
       "0     45           1      False  \n",
       "1     60           1      False  \n",
       "2     80           1      False  \n",
       "3     80           1      False  \n",
       "4     65           1      False  "
      ]
     },
     "execution_count": 2,
     "metadata": {},
     "output_type": "execute_result"
    }
   ],
   "source": [
    "pokemon.head(5) #checking first 10 columns of pokemon\n",
    "#it can be seen all features are defined in pokemon.csv"
   ]
  },
  {
   "cell_type": "code",
   "execution_count": 3,
   "metadata": {},
   "outputs": [
    {
     "data": {
      "text/plain": [
       "(800, 12)"
      ]
     },
     "execution_count": 3,
     "metadata": {},
     "output_type": "execute_result"
    }
   ],
   "source": [
    "pokemon.shape \n",
    "# this data contains 800 pokemons with 12 features\n"
   ]
  },
  {
   "cell_type": "code",
   "execution_count": 4,
   "metadata": {},
   "outputs": [
    {
     "name": "stdout",
     "output_type": "stream",
     "text": [
      "<class 'pandas.core.frame.DataFrame'>\n",
      "RangeIndex: 800 entries, 0 to 799\n",
      "Data columns (total 12 columns):\n",
      "#             800 non-null int64\n",
      "Name          799 non-null object\n",
      "Type 1        800 non-null object\n",
      "Type 2        414 non-null object\n",
      "HP            800 non-null int64\n",
      "Attack        800 non-null int64\n",
      "Defense       800 non-null int64\n",
      "Sp. Atk       800 non-null int64\n",
      "Sp. Def       800 non-null int64\n",
      "Speed         800 non-null int64\n",
      "Generation    800 non-null int64\n",
      "Legendary     800 non-null bool\n",
      "dtypes: bool(1), int64(8), object(3)\n",
      "memory usage: 69.6+ KB\n"
     ]
    }
   ],
   "source": [
    "pokemon.info()\n"
   ]
  },
  {
   "cell_type": "code",
   "execution_count": 5,
   "metadata": {
    "collapsed": true
   },
   "outputs": [],
   "source": [
    "pokemon[pokemon.Name.isnull()]  #checking which name value is missing\n",
    "pokemon['Name'].fillna(value = 'Kemal',inplace=True) \n",
    "#filling it with my name since names doesn'T affect results\n"
   ]
  },
  {
   "cell_type": "code",
   "execution_count": 6,
   "metadata": {
    "collapsed": true
   },
   "outputs": [],
   "source": [
    "pokemon['Type 2'].fillna(value = 'NoType2',inplace=True) \n",
    "#for the missing values of Type 2 I created a new Class\n",
    "#That seems convenient, almost half of the pokemons don't have type 2 so the algorithm probably will not find any supremacy of \n",
    "# 'NoType2'. However, it may affect the weight of the Type 2 values."
   ]
  },
  {
   "cell_type": "code",
   "execution_count": 7,
   "metadata": {},
   "outputs": [
    {
     "data": {
      "image/png": "[encoded data removed]",
      "text/plain": [
       "<matplotlib.figure.Figure at 0x1861f023048>"
      ]
     },
     "metadata": {},
     "output_type": "display_data"
    }
   ],
   "source": [
    "#visualizing win count of pokemons\n",
    "import matplotlib.pyplot as plt \n",
    "combats.Winner.plot(kind = 'hist',bins =800,figsize = (15,15)) \n",
    "plt.xlabel('# of pokemon')\n",
    "plt.show()"
   ]
  },
  {
   "cell_type": "code",
   "execution_count": 8,
   "metadata": {},
   "outputs": [
    {
     "data": {
      "text/plain": [
       "#              int64\n",
       "Name          object\n",
       "Type 1        object\n",
       "Type 2        object\n",
       "HP             int64\n",
       "Attack         int64\n",
       "Defense        int64\n",
       "Sp. Atk        int64\n",
       "Sp. Def        int64\n",
       "Speed          int64\n",
       "Generation     int64\n",
       "Legendary       bool\n",
       "dtype: object"
      ]
     },
     "execution_count": 8,
     "metadata": {},
     "output_type": "execute_result"
    }
   ],
   "source": [
    "pokemon.dtypes"
   ]
  },
  {
   "cell_type": "code",
   "execution_count": 9,
   "metadata": {},
   "outputs": [
    {
     "data": {
      "text/plain": [
       "#                int64\n",
       "Name            object\n",
       "Type 1        category\n",
       "Type 2        category\n",
       "HP               int64\n",
       "Attack           int64\n",
       "Defense          int64\n",
       "Sp. Atk          int64\n",
       "Sp. Def          int64\n",
       "Speed            int64\n",
       "Generation       int64\n",
       "Legendary        int32\n",
       "dtype: object"
      ]
     },
     "execution_count": 9,
     "metadata": {},
     "output_type": "execute_result"
    }
   ],
   "source": [
    "#we should convert objects to categories\n",
    "pokemon['Type 1'] = pokemon['Type 1'].astype('category')\n",
    "pokemon['Type 2'] = pokemon['Type 2'].astype('category') \n",
    "pokemon['Legendary']=pokemon['Legendary']*1 #I used a tricky way to convert boolean values to 1 and 0 s.\n",
    "pokemon.dtypes"
   ]
  },
  {
   "cell_type": "code",
   "execution_count": 10,
   "metadata": {
    "collapsed": true
   },
   "outputs": [],
   "source": [
    "#converting these categories to booleans\n",
    "pokemon=pandas.get_dummies(pokemon, columns=[\"Type 1\", \"Type 2\"])  "
   ]
  },
  {
   "cell_type": "code",
   "execution_count": 11,
   "metadata": {
    "collapsed": true
   },
   "outputs": [],
   "source": [
    "pokemon1=pokemon.copy()\n",
    "pokemon2=pokemon.copy()\n",
    "pokemon1.columns = ['1_' + str(col)  for col in pokemon1.columns]\n",
    "pokemon2.columns = ['2_' + str(col)  for col in pokemon2.columns]\n",
    "battle=pandas.merge(combats,pokemon1,left_on = 'First_pokemon', right_on = '1_#')\n",
    "battle=pandas.merge(battle,pokemon2,left_on = 'Second_pokemon', right_on = '2_#')"
   ]
  },
  {
   "cell_type": "code",
   "execution_count": 12,
   "metadata": {
    "collapsed": true
   },
   "outputs": [],
   "source": [
    "#creating a result classification column\n",
    "battle[\"First_win\"] = battle.apply(lambda x: 1 if x[\"First_pokemon\"]==x[\"Winner\"] else 0,axis=1)"
   ]
  },
  {
   "cell_type": "code",
   "execution_count": 13,
   "metadata": {
    "collapsed": true
   },
   "outputs": [],
   "source": [
    "#Now I don't need pokemon names,numbers, winner number, I will delete them\n",
    "del battle['First_pokemon']\n",
    "del battle['Second_pokemon']\n",
    "del battle['Winner']\n",
    "del battle['1_#']\n",
    "del battle['2_#']\n",
    "del battle['1_Name']\n",
    "del battle['2_Name']"
   ]
  },
  {
   "cell_type": "code",
   "execution_count": 14,
   "metadata": {},
   "outputs": [
    {
     "name": "stdout",
     "output_type": "stream",
     "text": [
      "<class 'pandas.core.frame.DataFrame'>\n",
      "Int64Index: 50000 entries, 0 to 49999\n",
      "Data columns (total 91 columns):\n",
      "1_HP                 50000 non-null int64\n",
      "1_Attack             50000 non-null int64\n",
      "1_Defense            50000 non-null int64\n",
      "1_Sp. Atk            50000 non-null int64\n",
      "1_Sp. Def            50000 non-null int64\n",
      "1_Speed              50000 non-null int64\n",
      "1_Generation         50000 non-null int64\n",
      "1_Legendary          50000 non-null int32\n",
      "1_Type 1_Bug         50000 non-null uint8\n",
      "1_Type 1_Dark        50000 non-null uint8\n",
      "1_Type 1_Dragon      50000 non-null uint8\n",
      "1_Type 1_Electric    50000 non-null uint8\n",
      "1_Type 1_Fairy       50000 non-null uint8\n",
      "1_Type 1_Fighting    50000 non-null uint8\n",
      "1_Type 1_Fire        50000 non-null uint8\n",
      "1_Type 1_Flying      50000 non-null uint8\n",
      "1_Type 1_Ghost       50000 non-null uint8\n",
      "1_Type 1_Grass       50000 non-null uint8\n",
      "1_Type 1_Ground      50000 non-null uint8\n",
      "1_Type 1_Ice         50000 non-null uint8\n",
      "1_Type 1_Normal      50000 non-null uint8\n",
      "1_Type 1_Poison      50000 non-null uint8\n",
      "1_Type 1_Psychic     50000 non-null uint8\n",
      "1_Type 1_Rock        50000 non-null uint8\n",
      "1_Type 1_Steel       50000 non-null uint8\n",
      "1_Type 1_Water       50000 non-null uint8\n",
      "1_Type 2_Bug         50000 non-null uint8\n",
      "1_Type 2_Dark        50000 non-null uint8\n",
      "1_Type 2_Dragon      50000 non-null uint8\n",
      "1_Type 2_Electric    50000 non-null uint8\n",
      "1_Type 2_Fairy       50000 non-null uint8\n",
      "1_Type 2_Fighting    50000 non-null uint8\n",
      "1_Type 2_Fire        50000 non-null uint8\n",
      "1_Type 2_Flying      50000 non-null uint8\n",
      "1_Type 2_Ghost       50000 non-null uint8\n",
      "1_Type 2_Grass       50000 non-null uint8\n",
      "1_Type 2_Ground      50000 non-null uint8\n",
      "1_Type 2_Ice         50000 non-null uint8\n",
      "1_Type 2_NoType2     50000 non-null uint8\n",
      "1_Type 2_Normal      50000 non-null uint8\n",
      "1_Type 2_Poison      50000 non-null uint8\n",
      "1_Type 2_Psychic     50000 non-null uint8\n",
      "1_Type 2_Rock        50000 non-null uint8\n",
      "1_Type 2_Steel       50000 non-null uint8\n",
      "1_Type 2_Water       50000 non-null uint8\n",
      "2_HP                 50000 non-null int64\n",
      "2_Attack             50000 non-null int64\n",
      "2_Defense            50000 non-null int64\n",
      "2_Sp. Atk            50000 non-null int64\n",
      "2_Sp. Def            50000 non-null int64\n",
      "2_Speed              50000 non-null int64\n",
      "2_Generation         50000 non-null int64\n",
      "2_Legendary          50000 non-null int32\n",
      "2_Type 1_Bug         50000 non-null uint8\n",
      "2_Type 1_Dark        50000 non-null uint8\n",
      "2_Type 1_Dragon      50000 non-null uint8\n",
      "2_Type 1_Electric    50000 non-null uint8\n",
      "2_Type 1_Fairy       50000 non-null uint8\n",
      "2_Type 1_Fighting    50000 non-null uint8\n",
      "2_Type 1_Fire        50000 non-null uint8\n",
      "2_Type 1_Flying      50000 non-null uint8\n",
      "2_Type 1_Ghost       50000 non-null uint8\n",
      "2_Type 1_Grass       50000 non-null uint8\n",
      "2_Type 1_Ground      50000 non-null uint8\n",
      "2_Type 1_Ice         50000 non-null uint8\n",
      "2_Type 1_Normal      50000 non-null uint8\n",
      "2_Type 1_Poison      50000 non-null uint8\n",
      "2_Type 1_Psychic     50000 non-null uint8\n",
      "2_Type 1_Rock        50000 non-null uint8\n",
      "2_Type 1_Steel       50000 non-null uint8\n",
      "2_Type 1_Water       50000 non-null uint8\n",
      "2_Type 2_Bug         50000 non-null uint8\n",
      "2_Type 2_Dark        50000 non-null uint8\n",
      "2_Type 2_Dragon      50000 non-null uint8\n",
      "2_Type 2_Electric    50000 non-null uint8\n",
      "2_Type 2_Fairy       50000 non-null uint8\n",
      "2_Type 2_Fighting    50000 non-null uint8\n",
      "2_Type 2_Fire        50000 non-null uint8\n",
      "2_Type 2_Flying      50000 non-null uint8\n",
      "2_Type 2_Ghost       50000 non-null uint8\n",
      "2_Type 2_Grass       50000 non-null uint8\n",
      "2_Type 2_Ground      50000 non-null uint8\n",
      "2_Type 2_Ice         50000 non-null uint8\n",
      "2_Type 2_NoType2     50000 non-null uint8\n",
      "2_Type 2_Normal      50000 non-null uint8\n",
      "2_Type 2_Poison      50000 non-null uint8\n",
      "2_Type 2_Psychic     50000 non-null uint8\n",
      "2_Type 2_Rock        50000 non-null uint8\n",
      "2_Type 2_Steel       50000 non-null uint8\n",
      "2_Type 2_Water       50000 non-null uint8\n",
      "First_win            50000 non-null int64\n",
      "dtypes: int32(2), int64(15), uint8(74)\n",
      "memory usage: 10.0 MB\n"
     ]
    }
   ],
   "source": [
    "battle.info() #now my battle dataset is ready with all non-null integer values"
   ]
  },
  {
   "cell_type": "code",
   "execution_count": 15,
   "metadata": {
    "collapsed": true
   },
   "outputs": [],
   "source": [
    "#splittin 5 percent of the data (2500 matches) for the test part\n",
    "from sklearn.model_selection import train_test_split\n",
    "X = battle.drop(\"First_win\", axis=1)\n",
    "y = battle[\"First_win\"]\n",
    "X_train, X_test, y_train, y_test = train_test_split(X, y, test_size=0.05, random_state=42) \n",
    "#Random_state is set to prevent getting different results for every run.(keeping randomness constant) "
   ]
  },
  {
   "cell_type": "code",
   "execution_count": 16,
   "metadata": {},
   "outputs": [
    {
     "name": "stdout",
     "output_type": "stream",
     "text": [
      "The accuracy of Logistic Regression Classifier is 0.884.\n"
     ]
    }
   ],
   "source": [
    "#logistic Regression Classifier\n",
    "from sklearn.linear_model import LogisticRegression\n",
    "from sklearn.metrics import accuracy_score\n",
    "\n",
    "logreg = LogisticRegression() #creating the classifier\n",
    "logreg.fit(X_train, y_train) #training it\n",
    "preds_logreg=logreg.predict(X_test) #making predictions\n",
    "\n",
    "accuracy_logreg=accuracy_score(y_test, preds_logreg)\n",
    "print (\"The accuracy of Logistic Regression Classifier is \"+ str(accuracy_logreg) +\".\")"
   ]
  },
  {
   "cell_type": "code",
   "execution_count": 17,
   "metadata": {},
   "outputs": [
    {
     "name": "stdout",
     "output_type": "stream",
     "text": [
      "The optimum number of neighbors is 13 with the [ 0.8964] accuracy\n"
     ]
    }
   ],
   "source": [
    "#K-Nearest Neighbor Classifier\n",
    "from sklearn.neighbors import KNeighborsClassifier\n",
    "neighbors_range= range(1,16)\n",
    "accuracy_knn=0\n",
    "optimum=0\n",
    "import numpy as np\n",
    "accuracyn= np.zeros((16,1))\n",
    "for n in neighbors_range:\n",
    "    knn=KNeighborsClassifier(n_neighbors=n)\n",
    "    knn=knn.fit(X_train,y_train)\n",
    "    preds=knn.predict(X_test)\n",
    "    accuracyn[n]=accuracy_score(y_test,preds)\n",
    "    if accuracyn[n]>accuracy_knn:\n",
    "        accuracy_knn=accuracyn[n]\n",
    "        optimum=n\n",
    "\n",
    "print (\"The optimum number of neighbors is \" + str(optimum) +\" with the \" + str(accuracy_knn) + \" accuracy\")\n",
    "\n",
    "# I made a simple optimization for the number of the neighbors"
   ]
  },
  {
   "cell_type": "code",
   "execution_count": 18,
   "metadata": {},
   "outputs": [
    {
     "data": {
      "image/png": "[encoded data removed]",
      "text/plain": [
       "<matplotlib.figure.Figure at 0x1862477a518>"
      ]
     },
     "metadata": {},
     "output_type": "display_data"
    }
   ],
   "source": [
    "#Visualization of this optimization\n",
    "neighbors= range(1,17)\n",
    "plt.plot(neighbors,accuracyn)\n",
    "plt.title('Effect of the Number of Neighbors')\n",
    "plt.xlabel('Number of Neighbors')\n",
    "plt.ylabel('Accuracy')\n",
    "plt.show()"
   ]
  },
  {
   "cell_type": "code",
   "execution_count": 19,
   "metadata": {},
   "outputs": [
    {
     "name": "stdout",
     "output_type": "stream",
     "text": [
      "The accuracy of Gaussian Naive Bayes Classifier is 0.8912.\n"
     ]
    }
   ],
   "source": [
    "# Gaussian Naive Bayes Classifier\n",
    "from sklearn.naive_bayes import GaussianNB\n",
    "gnb = GaussianNB()\n",
    "gnb.fit(X_train, y_train)\n",
    "preds_gnb=knn.predict(X_test)\n",
    "accuracy_gnb=accuracy_score(y_test,preds_gnb)\n",
    "print (\"The accuracy of Gaussian Naive Bayes Classifier is \"+ str(accuracy_gnb) +\".\")"
   ]
  },
  {
   "cell_type": "code",
   "execution_count": 20,
   "metadata": {},
   "outputs": [
    {
     "name": "stdout",
     "output_type": "stream",
     "text": [
      "The accuracy of Perceptron Classifier is 0.8912.\n"
     ]
    }
   ],
   "source": [
    "# Perceptron Classification\n",
    "from sklearn.linear_model import Perceptron\n",
    "perceptron = Perceptron(max_iter=1000)\n",
    "perceptron.fit(X_train, y_train)\n",
    "preds_perceptron=knn.predict(X_test)\n",
    "accuracy_perceptron=accuracy_score(y_test,preds_perceptron)\n",
    "print (\"The accuracy of Perceptron Classifier is \" + str(accuracy_perceptron) +\".\")"
   ]
  },
  {
   "cell_type": "code",
   "execution_count": 21,
   "metadata": {},
   "outputs": [
    {
     "name": "stdout",
     "output_type": "stream",
     "text": [
      "The optimum number of hidden layers is 13 with the [ 0.8964] accuracy\n"
     ]
    }
   ],
   "source": [
    "#Neural Networks Classification\n",
    "#I will create 2 classifiers to observe the effect \n",
    "#of number of hidden layers\n",
    "from sklearn.neural_network import MLPClassifier\n",
    "import numpy as np\n",
    "accuracy_mlp=0;\n",
    "optimum_n=0;\n",
    "accuracy= np.zeros((20,1))\n",
    "for layers in range (1,20):\n",
    "    mlp=MLPClassifier(hidden_layer_sizes=layers,solver='sgd'\n",
    "                      ,learning_rate = 'adaptive',\n",
    "                      learning_rate_init=0.001)\n",
    "    mlp.fit(X_train, y_train)\n",
    "    preds_mlp=mlp.predict(X_test)\n",
    "    accuracy[layers]=accuracy_score(y_test,preds_mlp)\n",
    "    if accuracy[layers]>accuracy_mlp:\n",
    "        accuracy_mlp=accuracy[layers]\n",
    "        optimum_n=layers\n",
    "print (\"The optimum number of hidden layers is \" +\n",
    "       str(optimum_n) +\" with the \" + str(accuracy_knn) + \" accuracy\")        "
   ]
  },
  {
   "cell_type": "code",
   "execution_count": 22,
   "metadata": {},
   "outputs": [
    {
     "data": {
      "image/png": "[encoded data removed]",
      "text/plain": [
       "<matplotlib.figure.Figure at 0x1861fcf4518>"
      ]
     },
     "metadata": {},
     "output_type": "display_data"
    }
   ],
   "source": [
    "#Visualization of this optimization\n",
    "numberoflayers= range(1,21)\n",
    "plt.plot(numberoflayers,accuracy)\n",
    "plt.title('Effect of the Number of Hidden Layers')\n",
    "plt.xlabel('Number of Layers')\n",
    "plt.ylabel('Accuracy')\n",
    "plt.show()"
   ]
  },
  {
   "cell_type": "code",
   "execution_count": 23,
   "metadata": {},
   "outputs": [
    {
     "name": "stdout",
     "output_type": "stream",
     "text": [
      "The accuracy of Decision Tree Classifier is 0.9544.\n"
     ]
    }
   ],
   "source": [
    "#Decision Tree Classifier\n",
    "from sklearn.tree import DecisionTreeClassifier\n",
    "tree = DecisionTreeClassifier()\n",
    "tree.fit(X_train, y_train)\n",
    "preds_tree=tree.predict(X_test)\n",
    "accuracy_tree=accuracy_score(y_test,preds_tree)\n",
    "print (\"The accuracy of Decision Tree Classifier is \"+ str(accuracy_tree) +\".\")"
   ]
  },
  {
   "cell_type": "code",
   "execution_count": 24,
   "metadata": {},
   "outputs": [
    {
     "name": "stdout",
     "output_type": "stream",
     "text": [
      "The accuracy of Random Forest Classifier is 0.9452.\n"
     ]
    }
   ],
   "source": [
    "# Random Forest Classifier\n",
    "from sklearn.ensemble import RandomForestClassifier\n",
    "forest = RandomForestClassifier(n_estimators=100)\n",
    "forest.fit(X_train, y_train)\n",
    "preds_forest=forest.predict(X_test)\n",
    "accuracy_forest=accuracy_score(y_test,preds_forest)\n",
    "print (\"The accuracy of Random Forest Classifier is \" + str(accuracy_forest) +\".\")"
   ]
  },
  {
   "cell_type": "code",
   "execution_count": 25,
   "metadata": {},
   "outputs": [
    {
     "data": {
      "text/html": [
       "<div>\n",
       "<style>\n",
       "    .dataframe thead tr:only-child th {\n",
       "        text-align: right;\n",
       "    }\n",
       "\n",
       "    .dataframe thead th {\n",
       "        text-align: left;\n",
       "    }\n",
       "\n",
       "    .dataframe tbody tr th {\n",
       "        vertical-align: top;\n",
       "    }\n",
       "</style>\n",
       "<table border=\"1\" class=\"dataframe\">\n",
       "  <thead>\n",
       "    <tr style=\"text-align: right;\">\n",
       "      <th></th>\n",
       "      <th>Accuracy</th>\n",
       "      <th>Model</th>\n",
       "    </tr>\n",
       "  </thead>\n",
       "  <tbody>\n",
       "    <tr>\n",
       "      <th>5</th>\n",
       "      <td>0.9544</td>\n",
       "      <td>Decision Tree</td>\n",
       "    </tr>\n",
       "    <tr>\n",
       "      <th>4</th>\n",
       "      <td>[0.9508]</td>\n",
       "      <td>Neural Networks</td>\n",
       "    </tr>\n",
       "    <tr>\n",
       "      <th>6</th>\n",
       "      <td>0.9452</td>\n",
       "      <td>Random Forest</td>\n",
       "    </tr>\n",
       "    <tr>\n",
       "      <th>1</th>\n",
       "      <td>[0.8964]</td>\n",
       "      <td>KNN</td>\n",
       "    </tr>\n",
       "    <tr>\n",
       "      <th>2</th>\n",
       "      <td>0.8912</td>\n",
       "      <td>Gaussian Naive Bayes</td>\n",
       "    </tr>\n",
       "    <tr>\n",
       "      <th>3</th>\n",
       "      <td>0.8912</td>\n",
       "      <td>Perceptron</td>\n",
       "    </tr>\n",
       "    <tr>\n",
       "      <th>0</th>\n",
       "      <td>0.884</td>\n",
       "      <td>Logistic Regression</td>\n",
       "    </tr>\n",
       "  </tbody>\n",
       "</table>\n",
       "</div>"
      ],
      "text/plain": [
       "   Accuracy                 Model\n",
       "5    0.9544         Decision Tree\n",
       "4  [0.9508]       Neural Networks\n",
       "6    0.9452         Random Forest\n",
       "1  [0.8964]                   KNN\n",
       "2    0.8912  Gaussian Naive Bayes\n",
       "3    0.8912            Perceptron\n",
       "0     0.884   Logistic Regression"
      ]
     },
     "execution_count": 25,
     "metadata": {},
     "output_type": "execute_result"
    }
   ],
   "source": [
    "#Final results\n",
    "models = pandas.DataFrame({\n",
    "    'Model': ['Logistic Regression', 'KNN','Gaussian Naive Bayes', 'Perceptron',\n",
    "              'Neural Networks', 'Decision Tree', 'Random Forest'],\n",
    "    'Accuracy': [accuracy_logreg, accuracy_knn,accuracy_gnb, accuracy_perceptron,accuracy_mlp, \n",
    "              accuracy_tree, accuracy_forest]})\n",
    "models.sort_values(by='Accuracy', ascending=False)\n",
    "#It can be seen that decision tree classifier is \n",
    "#the most successful one"
   ]
  },
  {
   "cell_type": "code",
   "execution_count": 26,
   "metadata": {},
   "outputs": [
    {
     "data": {
      "image/png": "[encoded data removed]",
      "text/plain": [
       "<matplotlib.figure.Figure at 0x18620ba1eb8>"
      ]
     },
     "metadata": {},
     "output_type": "display_data"
    }
   ],
   "source": [
    "plt.bar([0,1,2,3,4,5,6],models['Accuracy'], align='center',width=0.5)\n",
    "plt.xticks([0,1,2,3,4,5,6], ['LogReg','KNN','GNB','Perceptron','MLP','Tree','Forest'])\n",
    "plt.show()"
   ]
  },
  {
   "cell_type": "code",
   "execution_count": 27,
   "metadata": {
    "collapsed": true
   },
   "outputs": [],
   "source": [
    "#looking for the important features\n",
    "effective = pandas.DataFrame()\n",
    "effective[\"feature_name\"] = X.columns.tolist()\n",
    "effective[\"feature_importance\"] = forest.feature_importances_\n",
    "type1_1_total=effective.loc[8:25, ['feature_importance']].sum()#0.043351\n",
    "type2_1_total=effective.loc[26:44, ['feature_importance']].sum()#0.038514\n",
    "type1_2_total=effective.loc[54:71,['feature_importance']].sum()#0.042346\n",
    "type2_2_total=effective.loc[72:90, ['feature_importance']].sum()#0.038821\n",
    "#Actually, summing importance values of dummy type columns will be better for measuring importance of the type."
   ]
  },
  {
   "cell_type": "code",
   "execution_count": 28,
   "metadata": {
    "collapsed": true
   },
   "outputs": [],
   "source": [
    "for i in range(8,45):\n",
    "    effective=effective.drop(effective.index[[8]])  \n",
    "\n",
    "for i in range(54,91):\n",
    "    effective=effective.drop(effective.index[[16]]) "
   ]
  },
  {
   "cell_type": "code",
   "execution_count": 30,
   "metadata": {},
   "outputs": [],
   "source": [
    "typeeff=pandas.DataFrame([[\"1_type1_total\",0.043351],\n",
    "                          [\"1_type2_total\",0.038514],\n",
    "                          [\"2_type1_total\",0.042346],\n",
    "                          [\"2_type2_total\",0.038821]],columns=(\"feature_name\",\"feature_importance\"))\n",
    "               \n",
    "effective=effective.append(typeeff)                  "
   ]
  },
  {
   "cell_type": "code",
   "execution_count": 31,
   "metadata": {},
   "outputs": [
    {
     "data": {
      "text/html": [
       "<div>\n",
       "<style>\n",
       "    .dataframe thead tr:only-child th {\n",
       "        text-align: right;\n",
       "    }\n",
       "\n",
       "    .dataframe thead th {\n",
       "        text-align: left;\n",
       "    }\n",
       "\n",
       "    .dataframe tbody tr th {\n",
       "        vertical-align: top;\n",
       "    }\n",
       "</style>\n",
       "<table border=\"1\" class=\"dataframe\">\n",
       "  <thead>\n",
       "    <tr style=\"text-align: right;\">\n",
       "      <th></th>\n",
       "      <th>feature_name</th>\n",
       "      <th>feature_importance</th>\n",
       "    </tr>\n",
       "  </thead>\n",
       "  <tbody>\n",
       "    <tr>\n",
       "      <th>5</th>\n",
       "      <td>1_Speed</td>\n",
       "      <td>0.222918</td>\n",
       "    </tr>\n",
       "    <tr>\n",
       "      <th>50</th>\n",
       "      <td>2_Speed</td>\n",
       "      <td>0.212073</td>\n",
       "    </tr>\n",
       "    <tr>\n",
       "      <th>46</th>\n",
       "      <td>2_Attack</td>\n",
       "      <td>0.046871</td>\n",
       "    </tr>\n",
       "    <tr>\n",
       "      <th>1</th>\n",
       "      <td>1_Attack</td>\n",
       "      <td>0.046446</td>\n",
       "    </tr>\n",
       "    <tr>\n",
       "      <th>0</th>\n",
       "      <td>1_type1_total</td>\n",
       "      <td>0.043351</td>\n",
       "    </tr>\n",
       "    <tr>\n",
       "      <th>2</th>\n",
       "      <td>2_type1_total</td>\n",
       "      <td>0.042346</td>\n",
       "    </tr>\n",
       "    <tr>\n",
       "      <th>48</th>\n",
       "      <td>2_Sp. Atk</td>\n",
       "      <td>0.039641</td>\n",
       "    </tr>\n",
       "    <tr>\n",
       "      <th>3</th>\n",
       "      <td>2_type2_total</td>\n",
       "      <td>0.038821</td>\n",
       "    </tr>\n",
       "    <tr>\n",
       "      <th>3</th>\n",
       "      <td>1_Sp. Atk</td>\n",
       "      <td>0.038781</td>\n",
       "    </tr>\n",
       "    <tr>\n",
       "      <th>1</th>\n",
       "      <td>1_type2_total</td>\n",
       "      <td>0.038514</td>\n",
       "    </tr>\n",
       "    <tr>\n",
       "      <th>0</th>\n",
       "      <td>1_HP</td>\n",
       "      <td>0.033727</td>\n",
       "    </tr>\n",
       "    <tr>\n",
       "      <th>4</th>\n",
       "      <td>1_Sp. Def</td>\n",
       "      <td>0.031900</td>\n",
       "    </tr>\n",
       "    <tr>\n",
       "      <th>45</th>\n",
       "      <td>2_HP</td>\n",
       "      <td>0.030819</td>\n",
       "    </tr>\n",
       "    <tr>\n",
       "      <th>49</th>\n",
       "      <td>2_Sp. Def</td>\n",
       "      <td>0.029643</td>\n",
       "    </tr>\n",
       "    <tr>\n",
       "      <th>2</th>\n",
       "      <td>1_Defense</td>\n",
       "      <td>0.029641</td>\n",
       "    </tr>\n",
       "    <tr>\n",
       "      <th>47</th>\n",
       "      <td>2_Defense</td>\n",
       "      <td>0.028189</td>\n",
       "    </tr>\n",
       "    <tr>\n",
       "      <th>6</th>\n",
       "      <td>1_Generation</td>\n",
       "      <td>0.015344</td>\n",
       "    </tr>\n",
       "    <tr>\n",
       "      <th>51</th>\n",
       "      <td>2_Generation</td>\n",
       "      <td>0.015132</td>\n",
       "    </tr>\n",
       "    <tr>\n",
       "      <th>7</th>\n",
       "      <td>1_Legendary</td>\n",
       "      <td>0.007248</td>\n",
       "    </tr>\n",
       "    <tr>\n",
       "      <th>52</th>\n",
       "      <td>2_Legendary</td>\n",
       "      <td>0.005959</td>\n",
       "    </tr>\n",
       "  </tbody>\n",
       "</table>\n",
       "</div>"
      ],
      "text/plain": [
       "     feature_name  feature_importance\n",
       "5         1_Speed            0.222918\n",
       "50        2_Speed            0.212073\n",
       "46       2_Attack            0.046871\n",
       "1        1_Attack            0.046446\n",
       "0   1_type1_total            0.043351\n",
       "2   2_type1_total            0.042346\n",
       "48      2_Sp. Atk            0.039641\n",
       "3   2_type2_total            0.038821\n",
       "3       1_Sp. Atk            0.038781\n",
       "1   1_type2_total            0.038514\n",
       "0            1_HP            0.033727\n",
       "4       1_Sp. Def            0.031900\n",
       "45           2_HP            0.030819\n",
       "49      2_Sp. Def            0.029643\n",
       "2       1_Defense            0.029641\n",
       "47      2_Defense            0.028189\n",
       "6    1_Generation            0.015344\n",
       "51   2_Generation            0.015132\n",
       "7     1_Legendary            0.007248\n",
       "52    2_Legendary            0.005959"
      ]
     },
     "execution_count": 31,
     "metadata": {},
     "output_type": "execute_result"
    }
   ],
   "source": [
    "effective.sort_values(\"feature_importance\",ascending=False)"
   ]
  },
  {
   "cell_type": "code",
   "execution_count": 32,
   "metadata": {},
   "outputs": [
    {
     "data": {
      "image/png": "[encoded data removed]",
      "text/plain": [
       "<matplotlib.figure.Figure at 0x18620ba1908>"
      ]
     },
     "metadata": {},
     "output_type": "display_data"
    }
   ],
   "source": [
    "#visualizing it with a pie chart\n",
    "plt.pie(effective[\"feature_importance\"],labels=effective[\"feature_name\"],radius=2.5)\n",
    "plt.show()"
   ]
  },
  {
   "cell_type": "code",
   "execution_count": null,
   "metadata": {
    "collapsed": true
   },
   "outputs": [],
   "source": []
  }
 ],
 "metadata": {
  "kernelspec": {
   "display_name": "Python 3",
   "language": "python",
   "name": "python3"
  },
  "language_info": {
   "codemirror_mode": {
    "name": "ipython",
    "version": 3
   },
   "file_extension": ".py",
   "mimetype": "text/x-python",
   "name": "python",
   "nbconvert_exporter": "python",
   "pygments_lexer": "ipython3",
   "version": "3.6.1"
  }
 },
 "nbformat": 4,
 "nbformat_minor": 2
}
